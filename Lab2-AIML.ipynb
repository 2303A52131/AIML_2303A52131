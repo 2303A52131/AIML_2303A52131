{
  "nbformat": 4,
  "nbformat_minor": 0,
  "metadata": {
    "colab": {
      "provenance": [],
      "authorship_tag": "ABX9TyOkh4JowLf24127XL8mDcmE",
      "include_colab_link": true
    },
    "kernelspec": {
      "name": "python3",
      "display_name": "Python 3"
    },
    "language_info": {
      "name": "python"
    }
  },
  "cells": [
    {
      "cell_type": "markdown",
      "metadata": {
        "id": "view-in-github",
        "colab_type": "text"
      },
      "source": [
        "<a href=\"https://colab.research.google.com/github/2303A52131/AIML_2303A52131/blob/main/Lab2-AIML.ipynb\" target=\"_parent\"><img src=\"https://colab.research.google.com/assets/colab-badge.svg\" alt=\"Open In Colab\"/></a>"
      ]
    },
    {
      "cell_type": "markdown",
      "source": [
        "Part 1 Implement Breadth First Search Algorithm using a Queue\n",
        " 1. Given a graph with adjacency list and a starting vertex and we have to traverse the\n",
        " graph.\n",
        " 2. We will rst print the value in the starting vertex,\n",
        " 3. Continue to print the value of neighbors of the starting vertex and\n",
        " 4. Next move on to the next level after completing the current level till all the vertices of\n",
        " the graph are printed"
      ],
      "metadata": {
        "id": "FiPG1w6f-17K"
      }
    },
    {
      "cell_type": "code",
      "source": [
        "from queue import Queue\n",
        "Graph={0:[1,3],1:[0,2,3],2:[1,4,5],3:[0,1,4],4:[2,3,5],5:[2,4]}\n",
        "print (Graph)"
      ],
      "metadata": {
        "colab": {
          "base_uri": "https://localhost:8080/"
        },
        "id": "tkqLtuC--3ne",
        "outputId": "0615b9d5-82e1-4e02-b5aa-03f9b63ce58e"
      },
      "execution_count": 8,
      "outputs": [
        {
          "output_type": "stream",
          "name": "stdout",
          "text": [
            "{0: [1, 3], 1: [0, 2, 3], 2: [1, 4, 5], 3: [0, 1, 4], 4: [2, 3, 5], 5: [2, 4]}\n"
          ]
        }
      ]
    },
    {
      "cell_type": "code",
      "source": [
        "def bfs(graph,source):\n",
        "    visited_vertex=[]\n",
        "    queue=Queue()\n",
        "    queue.put(source)\n",
        "    visited_vertex.append(source)\n",
        "    while not queue.empty():\n",
        "        current_vertex=queue.get()\n",
        "        print (current_vertex)\n",
        "        for neighbor in graph[current_vertex]:\n",
        "            if neighbor not in visited_vertex:\n",
        "                visited_vertex.append(neighbor)\n",
        "                queue.put(neighbor)\n",
        "bfs(Graph,0)"
      ],
      "metadata": {
        "colab": {
          "base_uri": "https://localhost:8080/"
        },
        "id": "IH4kjsP1Ckte",
        "outputId": "292495cd-1598-40e0-e7f2-6c610e7c3984"
      },
      "execution_count": 11,
      "outputs": [
        {
          "output_type": "stream",
          "name": "stdout",
          "text": [
            "0\n",
            "1\n",
            "3\n",
            "2\n",
            "4\n",
            "5\n"
          ]
        }
      ]
    }
  ]
}