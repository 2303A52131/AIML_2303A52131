{
  "nbformat": 4,
  "nbformat_minor": 0,
  "metadata": {
    "colab": {
      "provenance": [],
      "authorship_tag": "ABX9TyOdkhaNKMqpurd9qVuzAyJU",
      "include_colab_link": true
    },
    "kernelspec": {
      "name": "python3",
      "display_name": "Python 3"
    },
    "language_info": {
      "name": "python"
    }
  },
  "cells": [
    {
      "cell_type": "markdown",
      "metadata": {
        "id": "view-in-github",
        "colab_type": "text"
      },
      "source": [
        "<a href=\"https://colab.research.google.com/github/2303A52131/AIML_2303A52131./blob/main/Lab1_AIML.ipynb\" target=\"_parent\"><img src=\"https://colab.research.google.com/assets/colab-badge.svg\" alt=\"Open In Colab\"/></a>"
      ]
    },
    {
      "cell_type": "markdown",
      "source": [
        "Part 1 – Implement Basic Data Structures using Numpy, Pandas\n",
        "1. Lists\n",
        "2. Arrays\n",
        "3. Identify their type using type()\n",
        "4. Perform mathematical operations on these datasets created - multiplication, division,\n",
        "poweroff\n",
        "5. Combine text with Numpy fuction to generate a textual output - ”Addition of Two:\n",
        "array1 +array 2\n",
        "6. Implement np.sin(), log(), log2(), np.exp())\n"
      ],
      "metadata": {
        "id": "ZKMtbXeR7SEi"
      }
    },
    {
      "cell_type": "code",
      "source": [
        "import numpy as np\n",
        "list1=[1,2,3]\n",
        "list2=[4,5,6]\n",
        "array1 = np.array(list1)\n",
        "array1\n",
        "array2= np.array(list2)\n",
        "array2"
      ],
      "metadata": {
        "colab": {
          "base_uri": "https://localhost:8080/"
        },
        "id": "8qy85i8V7Toz",
        "outputId": "bdb1e863-810e-4bb1-8fce-c268033e2a3b"
      },
      "execution_count": null,
      "outputs": [
        {
          "output_type": "execute_result",
          "data": {
            "text/plain": [
              "array([4, 5, 6])"
            ]
          },
          "metadata": {},
          "execution_count": 7
        }
      ]
    },
    {
      "cell_type": "code",
      "source": [
        "type(list1)"
      ],
      "metadata": {
        "colab": {
          "base_uri": "https://localhost:8080/"
        },
        "id": "qIfSfMqj9MX8",
        "outputId": "2b3d1ce5-592c-4227-dc55-d1c959a58208"
      },
      "execution_count": null,
      "outputs": [
        {
          "output_type": "execute_result",
          "data": {
            "text/plain": [
              "list"
            ]
          },
          "metadata": {},
          "execution_count": 4
        }
      ]
    },
    {
      "cell_type": "code",
      "source": [
        "type(array1)"
      ],
      "metadata": {
        "colab": {
          "base_uri": "https://localhost:8080/"
        },
        "id": "wIgucOhq9P32",
        "outputId": "50c9e8d4-e6e1-41cd-cb8a-e5ac70660049"
      },
      "execution_count": null,
      "outputs": [
        {
          "output_type": "execute_result",
          "data": {
            "text/plain": [
              "numpy.ndarray"
            ]
          },
          "metadata": {},
          "execution_count": 5
        }
      ]
    },
    {
      "cell_type": "code",
      "source": [
        "print(\"array2 multiplied by array1: \",array1*array2)\n",
        "print(\"array2 divided by array1: \",array2/array1)\n",
        "print(\"array2 raised to the power of array1: \",array2**array1)"
      ],
      "metadata": {
        "colab": {
          "base_uri": "https://localhost:8080/"
        },
        "id": "uE4BcNv79bb8",
        "outputId": "cd559721-6bac-423f-f706-7ed44922d796"
      },
      "execution_count": null,
      "outputs": [
        {
          "output_type": "stream",
          "name": "stdout",
          "text": [
            "array2 multiplied by array1:  [ 4 10 18]\n",
            "array2 divided by array1:  [4.  2.5 2. ]\n",
            "array2 raised to the power of array1:  [  4  25 216]\n"
          ]
        }
      ]
    },
    {
      "cell_type": "code",
      "source": [
        "print(\"Sine: \",np.sin(array1))\n",
        "print(\"Natural logarithm: \",np.log(array1))\n",
        "print(\"Base-10 logarithm: \",np.log10(array1))\n",
        "print(\"Base-2 logarithm: \",np.log2(array1))\n",
        "print(\"Exponential: \",np.exp(array1))"
      ],
      "metadata": {
        "colab": {
          "base_uri": "https://localhost:8080/"
        },
        "id": "vpDrkO-K93kt",
        "outputId": "4816960f-04dc-459c-a452-372aae8c15c6"
      },
      "execution_count": null,
      "outputs": [
        {
          "output_type": "stream",
          "name": "stdout",
          "text": [
            "Sine:  [0.84147098 0.90929743 0.14112001]\n",
            "Natural logarithm:  [0.         0.69314718 1.09861229]\n",
            "Base-10 logarithm:  [0.         0.30103    0.47712125]\n",
            "Base-2 logarithm:  [0.        1.        1.5849625]\n",
            "Exponential:  [ 2.71828183  7.3890561  20.08553692]\n"
          ]
        }
      ]
    },
    {
      "cell_type": "code",
      "source": [
        "list2=[4,5,6]\n",
        "array2=np.array(list2)\n",
        "array2"
      ],
      "metadata": {
        "colab": {
          "base_uri": "https://localhost:8080/"
        },
        "id": "Trb0VlP--Bce",
        "outputId": "6b84f7f3-596b-495b-d197-7ecd8734503e"
      },
      "execution_count": null,
      "outputs": [
        {
          "output_type": "execute_result",
          "data": {
            "text/plain": [
              "array([4, 5, 6])"
            ]
          },
          "metadata": {},
          "execution_count": 10
        }
      ]
    },
    {
      "cell_type": "code",
      "source": [
        "print(\"Adding two numpy arrays {array1} and {array2} together:\", array1+array2)"
      ],
      "metadata": {
        "colab": {
          "base_uri": "https://localhost:8080/"
        },
        "id": "pF3dDC-M-RP9",
        "outputId": "fee80f85-c5af-445f-dd7f-814822717245"
      },
      "execution_count": null,
      "outputs": [
        {
          "output_type": "stream",
          "name": "stdout",
          "text": [
            "Adding two numpy arrays {array1} and {array2} together: [5 7 9]\n"
          ]
        }
      ]
    },
    {
      "cell_type": "code",
      "source": [
        "print(f\"Adding two numpy arrays {array1} and {array2} together: {array1+array2}\")"
      ],
      "metadata": {
        "colab": {
          "base_uri": "https://localhost:8080/"
        },
        "id": "HY_BimJY-USw",
        "outputId": "975587f8-acfc-4dc6-adaf-75b1a2ce6a71"
      },
      "execution_count": null,
      "outputs": [
        {
          "output_type": "stream",
          "name": "stdout",
          "text": [
            "Adding two numpy arrays [1 2 3] and [4 5 6] together: [5 7 9]\n"
          ]
        }
      ]
    }
  ]
}